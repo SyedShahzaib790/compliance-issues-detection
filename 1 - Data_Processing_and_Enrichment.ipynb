{
 "cells": [
  {
   "cell_type": "code",
   "execution_count": 2,
   "metadata": {},
   "outputs": [],
   "source": [
    "# !pip freeze > requirements.txt"
   ]
  },
  {
   "cell_type": "code",
   "execution_count": 1,
   "metadata": {},
   "outputs": [],
   "source": [
    "from functions import *\n",
    "import pandas as pd\n",
    "import datetime\n",
    "import json\n",
    "import email\n",
    "import os\n",
    "import spacy\n",
    "import re\n",
    "import matplotlib.pyplot as plt\n",
    "import unidecode"
   ]
  },
  {
   "cell_type": "code",
   "execution_count": null,
   "metadata": {},
   "outputs": [],
   "source": [
    "\"\"\" ============= IMPORTANT =================\n",
    "    This cell should run in Python2.x because its using\n",
    "    a library emaildata which produces error on Python3\n",
    "    ==========================================\n",
    "\"\"\"\n",
    "\n",
    "# import email\n",
    "# from emaildata.text import Text\n",
    "# get_payload_func = lambda file_name: Text.text(email.message_from_file(open(file_name)))\n",
    "\n",
    "# folder = './final_messages/'\n",
    "\n",
    "# data = pd.DataFrame(columns = ['payload'])\n",
    "# for f in os.listdir(folder):\n",
    "#     file_path = folder+f\n",
    "#     data.loc[f] = get_payload_func(file_path)\n",
    "\n"
   ]
  },
  {
   "cell_type": "code",
   "execution_count": 3,
   "metadata": {},
   "outputs": [],
   "source": [
    "# data.to_pickle('./payloads.pkl')\n",
    "data = pd.read_pickle('./payloads.pkl')"
   ]
  },
  {
   "cell_type": "code",
   "execution_count": 9,
   "metadata": {},
   "outputs": [],
   "source": [
    "def remove_headers(payload):\n",
    "    \"\"\"  This function perform data cleansing (header removal) on emails\"\"\"\n",
    "    \n",
    "    all_sents = re.split('[\\\\n+|\\\\r+]',payload)\n",
    "    garbage_headers = ['sent:','to:','from:','cc:','-original message-','subject:']\n",
    "    cleaned_sents = []\n",
    "    for s in all_sents:\n",
    "        s = s.strip()\n",
    "        if s=='':\n",
    "            continue\n",
    "        elif len(re.findall('|'.join(garbage_headers), s.lower())) > 0:\n",
    "            continue\n",
    "        cleaned_sents.append(s)\n",
    "    return ' \\n '.join(cleaned_sents)"
   ]
  },
  {
   "cell_type": "code",
   "execution_count": 11,
   "metadata": {},
   "outputs": [],
   "source": [
    "def get_spacy_tokens(sent):\n",
    "    \"\"\" This function returns a sentence dependency tree in pandas dataframe form \"\"\"\n",
    "    \n",
    "    if sent.strip() == '':\n",
    "        return pd.DataFrame(columns=['text','tag','pos','dep','parent', 'parent_pos'])\n",
    "    \n",
    "    struct = []\n",
    "    for token in nlp(sent):\n",
    "        struct.append([token.text, token.tag_ , token.pos_, token.dep_, token.head.text, token.head.pos_])\n",
    "    df = pd.DataFrame(struct, columns=['text','tag','pos','dep','parent', 'parent_pos'])\n",
    "    df.index = df.text.values\n",
    "    return df\n",
    "\n",
    "def is_sentence_meaningful(sentence):\n",
    "    \"\"\" Check weather the given sentence is meaningful or not by looking at the verb-noun involved \"\"\"\n",
    "    \n",
    "    dep_parser = get_spacy_tokens(sentence)\n",
    "    nouns = dep_parser[dep_parser.pos=='NOUN']\n",
    "    if nouns[nouns['parent_pos']=='VERB'].shape[0]:\n",
    "        return True #Meaningful Sentence\n",
    "    return False #Garbage Sentence\n",
    "\n"
   ]
  },
  {
   "cell_type": "code",
   "execution_count": 13,
   "metadata": {},
   "outputs": [],
   "source": [
    "#filter sentences\n",
    "filter_invalid_sentences = lambda all_sents:  [s for s in all_sents if is_sentence_meaningful(s)]\n",
    "\n",
    "#Sentence tokenization function\n",
    "split_into_sentences = lambda payload: [re.sub('\\\\n+|\\\\s+', ' ' ,sent.text).strip() for sent in nlp(payload).sents]\n"
   ]
  },
  {
   "cell_type": "code",
   "execution_count": 14,
   "metadata": {},
   "outputs": [],
   "source": [
    "data.loc[:,'payload_sents'] = data.payload.map(remove_headers).map(split_into_sentences).map(filter_invalid_sentences)\n"
   ]
  },
  {
   "cell_type": "code",
   "execution_count": 15,
   "metadata": {},
   "outputs": [],
   "source": [
    "data.to_pickle('./payloads.pkl')"
   ]
  },
  {
   "cell_type": "markdown",
   "metadata": {},
   "source": [
    "# Feature Building"
   ]
  },
  {
   "cell_type": "code",
   "execution_count": 16,
   "metadata": {},
   "outputs": [
    {
     "name": "stdout",
     "output_type": "stream",
     "text": [
      "2020-06-10 10:34:00,581 loading file /home/cloud_user/.flair/models/sentiment-en-mix-distillbert.pt\n"
     ]
    }
   ],
   "source": [
    "import flair\n",
    "\n",
    "#Pre-trained Sentiment Analyzer model\n",
    "flair_sentiment = flair.models.TextClassifier.load('en-sentiment')\n",
    "\n",
    "def get_sentence_sentiment(sent):\n",
    "    \"\"\" Check whether the sentence is positive or negative in nature \"\"\"\n",
    "    \n",
    "    s = flair.data.Sentence(sent)\n",
    "    flair_sentiment.predict(s)\n",
    "    total_sentiment = s.labels\n",
    "    return total_sentiment"
   ]
  },
  {
   "cell_type": "code",
   "execution_count": 17,
   "metadata": {},
   "outputs": [],
   "source": [
    "# Words that usually form compliance related discussions\n",
    "word_list = ['compliance','comply','accordance','breach']"
   ]
  },
  {
   "cell_type": "code",
   "execution_count": 18,
   "metadata": {},
   "outputs": [],
   "source": [
    "data.loc[:,'compliance_sents'] = data.payload_sents.map(lambda x: [s for s in x if len(re.findall('|'.join(word_list), s)) > 0 ])\n",
    "data.loc[:,'compliance_sentiments'] = data.compliance_sents.map(lambda sents: [(get_sentence_sentiment(s)) for s in sents])\n",
    "data.compliance_sentiments = data.compliance_sentiments.map(lambda x: [x[0][0].value for a in x])"
   ]
  },
  {
   "cell_type": "code",
   "execution_count": 19,
   "metadata": {},
   "outputs": [],
   "source": [
    "compliance_mention_dataset = data[data.compliance_sents.map(len)>0]\n",
    "compliance_not_mention_dataset = data[data.compliance_sents.map(len)==0]"
   ]
  },
  {
   "cell_type": "code",
   "execution_count": 20,
   "metadata": {},
   "outputs": [],
   "source": [
    "compliance_mention_dataset.to_pickle('./compliance_mention_dataset.pkl')\n",
    "compliance_not_mention_dataset.to_pickle('./compliance_not_mention_dataset.pkl')"
   ]
  },
  {
   "cell_type": "code",
   "execution_count": 21,
   "metadata": {},
   "outputs": [],
   "source": [
    "dataset = []\n",
    "for idx, val in compliance_mention_dataset.iterrows():\n",
    "    result =  (list(zip(val['compliance_sents'], val['compliance_sentiments'])))\n",
    "    dataset.extend(result)\n",
    "#     break"
   ]
  },
  {
   "cell_type": "code",
   "execution_count": 22,
   "metadata": {},
   "outputs": [],
   "source": [
    "dataset = pd.DataFrame(np.asarray(dataset), columns=['sentences','label'])\n",
    "dataset.label = dataset.label.map(lambda x: -1 if 'NEGATIVE' in x else 1)"
   ]
  },
  {
   "cell_type": "code",
   "execution_count": 23,
   "metadata": {},
   "outputs": [],
   "source": [
    "\"\"\" Remove non-alphanumeric characters from our dataset \"\"\"\n",
    "dataset.sentences = dataset.sentences.map(lambda x: ' '.join(re.findall('\\w+',x)) )"
   ]
  },
  {
   "cell_type": "code",
   "execution_count": 24,
   "metadata": {},
   "outputs": [],
   "source": [
    "dataset.to_pickle('./compliance_labeled_data.pkl')"
   ]
  },
  {
   "cell_type": "code",
   "execution_count": null,
   "metadata": {},
   "outputs": [],
   "source": []
  }
 ],
 "metadata": {
  "kernelspec": {
   "display_name": "Python [conda env:ticket_resolution]",
   "language": "python",
   "name": "conda-env-ticket_resolution-py"
  },
  "language_info": {
   "codemirror_mode": {
    "name": "ipython",
    "version": 3
   },
   "file_extension": ".py",
   "mimetype": "text/x-python",
   "name": "python",
   "nbconvert_exporter": "python",
   "pygments_lexer": "ipython3",
   "version": "3.6.5"
  }
 },
 "nbformat": 4,
 "nbformat_minor": 2
}
